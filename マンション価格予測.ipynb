{
 "cells": [
  {
   "cell_type": "code",
   "execution_count": 32,
   "id": "205d98e3-5dec-4748-94b8-8647df1d3829",
   "metadata": {},
   "outputs": [],
   "source": [
    "import pandas as pd\n",
    "import numpy as np\n",
    "import glob\n",
    "import seaborn as sns\n",
    "import matplotlib.pyplot as plt\n",
    "\n",
    "pd.set_option('display.max_columns', 27) #列を全表示にする。27で列数指定"
   ]
  },
  {
   "cell_type": "code",
   "execution_count": 33,
   "id": "3d6e16e5-92bc-4bbc-8bf4-17f955558804",
   "metadata": {},
   "outputs": [],
   "source": [
    "df = pd.read_csv(\"./train/01.csv\")"
   ]
  },
  {
   "cell_type": "code",
   "execution_count": 34,
   "id": "7ed45700-7b8d-45fb-beed-8767768c371e",
   "metadata": {},
   "outputs": [
    {
     "name": "stderr",
     "output_type": "stream",
     "text": [
      "/Users/kumazawateruhito/opt/anaconda3/envs/base_root/lib/python3.7/site-packages/IPython/core/interactiveshell.py:3553: DtypeWarning: Columns (10) have mixed types.Specify dtype option on import or set low_memory=False.\n",
      "  exec(code_obj, self.user_global_ns, self.user_ns)\n"
     ]
    },
    {
     "data": {
      "text/plain": [
       "(637351, 27)"
      ]
     },
     "execution_count": 34,
     "metadata": {},
     "output_type": "execute_result"
    }
   ],
   "source": [
    "files = glob.glob(\"./train/*.csv\") #train配下のデータを読み込む\n",
    "\n",
    "data_list = []\n",
    "\n",
    "for file in files:\n",
    "    data_list.append(pd.read_csv(file, index_col=0)) #data_listにtrainデータを入れる\n",
    "\n",
    "df = pd.concat(data_list) #行方向にデータを足していく\n",
    "df.shape"
   ]
  },
  {
   "cell_type": "code",
   "execution_count": 35,
   "id": "8897e60d-3889-4e91-b1fd-c8859c123afe",
   "metadata": {},
   "outputs": [
    {
     "data": {
      "text/html": [
       "<div>\n",
       "<style scoped>\n",
       "    .dataframe tbody tr th:only-of-type {\n",
       "        vertical-align: middle;\n",
       "    }\n",
       "\n",
       "    .dataframe tbody tr th {\n",
       "        vertical-align: top;\n",
       "    }\n",
       "\n",
       "    .dataframe thead th {\n",
       "        text-align: right;\n",
       "    }\n",
       "</style>\n",
       "<table border=\"1\" class=\"dataframe\">\n",
       "  <thead>\n",
       "    <tr style=\"text-align: right;\">\n",
       "      <th></th>\n",
       "      <th>種類</th>\n",
       "      <th>地域</th>\n",
       "      <th>市区町村コード</th>\n",
       "      <th>都道府県名</th>\n",
       "      <th>市区町村名</th>\n",
       "      <th>地区名</th>\n",
       "      <th>最寄駅：名称</th>\n",
       "      <th>最寄駅：距離（分）</th>\n",
       "      <th>間取り</th>\n",
       "      <th>面積（㎡）</th>\n",
       "      <th>土地の形状</th>\n",
       "      <th>間口</th>\n",
       "      <th>延床面積（㎡）</th>\n",
       "      <th>建築年</th>\n",
       "      <th>建物の構造</th>\n",
       "      <th>用途</th>\n",
       "      <th>今後の利用目的</th>\n",
       "      <th>前面道路：方位</th>\n",
       "      <th>前面道路：種類</th>\n",
       "      <th>前面道路：幅員（ｍ）</th>\n",
       "      <th>都市計画</th>\n",
       "      <th>建ぺい率（％）</th>\n",
       "      <th>容積率（％）</th>\n",
       "      <th>取引時点</th>\n",
       "      <th>改装</th>\n",
       "      <th>取引の事情等</th>\n",
       "      <th>取引価格（総額）_log</th>\n",
       "    </tr>\n",
       "    <tr>\n",
       "      <th>ID</th>\n",
       "      <th></th>\n",
       "      <th></th>\n",
       "      <th></th>\n",
       "      <th></th>\n",
       "      <th></th>\n",
       "      <th></th>\n",
       "      <th></th>\n",
       "      <th></th>\n",
       "      <th></th>\n",
       "      <th></th>\n",
       "      <th></th>\n",
       "      <th></th>\n",
       "      <th></th>\n",
       "      <th></th>\n",
       "      <th></th>\n",
       "      <th></th>\n",
       "      <th></th>\n",
       "      <th></th>\n",
       "      <th></th>\n",
       "      <th></th>\n",
       "      <th></th>\n",
       "      <th></th>\n",
       "      <th></th>\n",
       "      <th></th>\n",
       "      <th></th>\n",
       "      <th></th>\n",
       "      <th></th>\n",
       "    </tr>\n",
       "  </thead>\n",
       "  <tbody>\n",
       "    <tr>\n",
       "      <th>40108844</th>\n",
       "      <td>中古マンション等</td>\n",
       "      <td>NaN</td>\n",
       "      <td>40218</td>\n",
       "      <td>福岡県</td>\n",
       "      <td>春日市</td>\n",
       "      <td>昇町</td>\n",
       "      <td>博多南</td>\n",
       "      <td>23</td>\n",
       "      <td>３ＬＤＫ</td>\n",
       "      <td>70</td>\n",
       "      <td>NaN</td>\n",
       "      <td>NaN</td>\n",
       "      <td>NaN</td>\n",
       "      <td>平成16年</td>\n",
       "      <td>ＲＣ</td>\n",
       "      <td>住宅</td>\n",
       "      <td>NaN</td>\n",
       "      <td>NaN</td>\n",
       "      <td>NaN</td>\n",
       "      <td>NaN</td>\n",
       "      <td>第２種住居地域</td>\n",
       "      <td>60.0</td>\n",
       "      <td>200.0</td>\n",
       "      <td>2012年第１四半期</td>\n",
       "      <td>改装済</td>\n",
       "      <td>NaN</td>\n",
       "      <td>7.230449</td>\n",
       "    </tr>\n",
       "    <tr>\n",
       "      <th>40001245</th>\n",
       "      <td>中古マンション等</td>\n",
       "      <td>NaN</td>\n",
       "      <td>40103</td>\n",
       "      <td>福岡県</td>\n",
       "      <td>北九州市若松区</td>\n",
       "      <td>久岐の浜</td>\n",
       "      <td>若松</td>\n",
       "      <td>10</td>\n",
       "      <td>４ＬＤＫ</td>\n",
       "      <td>95</td>\n",
       "      <td>NaN</td>\n",
       "      <td>NaN</td>\n",
       "      <td>NaN</td>\n",
       "      <td>平成5年</td>\n",
       "      <td>ＲＣ</td>\n",
       "      <td>住宅</td>\n",
       "      <td>住宅</td>\n",
       "      <td>NaN</td>\n",
       "      <td>NaN</td>\n",
       "      <td>NaN</td>\n",
       "      <td>第１種住居地域</td>\n",
       "      <td>60.0</td>\n",
       "      <td>200.0</td>\n",
       "      <td>2015年第４四半期</td>\n",
       "      <td>改装済</td>\n",
       "      <td>NaN</td>\n",
       "      <td>6.875061</td>\n",
       "    </tr>\n",
       "    <tr>\n",
       "      <th>40068753</th>\n",
       "      <td>中古マンション等</td>\n",
       "      <td>NaN</td>\n",
       "      <td>40132</td>\n",
       "      <td>福岡県</td>\n",
       "      <td>福岡市博多区</td>\n",
       "      <td>古門戸町</td>\n",
       "      <td>中洲川端</td>\n",
       "      <td>4</td>\n",
       "      <td>２ＬＤＫ</td>\n",
       "      <td>50</td>\n",
       "      <td>NaN</td>\n",
       "      <td>NaN</td>\n",
       "      <td>NaN</td>\n",
       "      <td>平成9年</td>\n",
       "      <td>ＳＲＣ</td>\n",
       "      <td>住宅</td>\n",
       "      <td>NaN</td>\n",
       "      <td>NaN</td>\n",
       "      <td>NaN</td>\n",
       "      <td>NaN</td>\n",
       "      <td>商業地域</td>\n",
       "      <td>80.0</td>\n",
       "      <td>500.0</td>\n",
       "      <td>2010年第１四半期</td>\n",
       "      <td>未改装</td>\n",
       "      <td>NaN</td>\n",
       "      <td>7.041393</td>\n",
       "    </tr>\n",
       "  </tbody>\n",
       "</table>\n",
       "</div>"
      ],
      "text/plain": [
       "                種類  地域  市区町村コード 都道府県名    市区町村名   地区名 最寄駅：名称 最寄駅：距離（分）   間取り  \\\n",
       "ID                                                                            \n",
       "40108844  中古マンション等 NaN    40218   福岡県      春日市    昇町    博多南        23  ３ＬＤＫ   \n",
       "40001245  中古マンション等 NaN    40103   福岡県  北九州市若松区  久岐の浜     若松        10  ４ＬＤＫ   \n",
       "40068753  中古マンション等 NaN    40132   福岡県   福岡市博多区  古門戸町   中洲川端         4  ２ＬＤＫ   \n",
       "\n",
       "         面積（㎡）  土地の形状  間口  延床面積（㎡）    建築年 建物の構造  用途 今後の利用目的  前面道路：方位  前面道路：種類  \\\n",
       "ID                                                                              \n",
       "40108844    70    NaN NaN      NaN  平成16年    ＲＣ  住宅     NaN      NaN      NaN   \n",
       "40001245    95    NaN NaN      NaN   平成5年    ＲＣ  住宅      住宅      NaN      NaN   \n",
       "40068753    50    NaN NaN      NaN   平成9年   ＳＲＣ  住宅     NaN      NaN      NaN   \n",
       "\n",
       "          前面道路：幅員（ｍ）     都市計画  建ぺい率（％）  容積率（％）        取引時点   改装 取引の事情等  \\\n",
       "ID                                                                       \n",
       "40108844         NaN  第２種住居地域     60.0   200.0  2012年第１四半期  改装済    NaN   \n",
       "40001245         NaN  第１種住居地域     60.0   200.0  2015年第４四半期  改装済    NaN   \n",
       "40068753         NaN     商業地域     80.0   500.0  2010年第１四半期  未改装    NaN   \n",
       "\n",
       "          取引価格（総額）_log  \n",
       "ID                      \n",
       "40108844      7.230449  \n",
       "40001245      6.875061  \n",
       "40068753      7.041393  "
      ]
     },
     "execution_count": 35,
     "metadata": {},
     "output_type": "execute_result"
    }
   ],
   "source": [
    "df.head(3)"
   ]
  },
  {
   "cell_type": "code",
   "execution_count": 36,
   "id": "c8c1e8aa-e4bd-4291-bcb1-9eb94090a820",
   "metadata": {},
   "outputs": [
    {
     "data": {
      "text/plain": [
       "種類                   0\n",
       "地域              637351\n",
       "市区町村コード              0\n",
       "都道府県名                0\n",
       "市区町村名                0\n",
       "地区名                291\n",
       "最寄駅：名称            2619\n",
       "最寄駅：距離（分）        23045\n",
       "間取り              21742\n",
       "面積（㎡）                0\n",
       "土地の形状           637351\n",
       "間口              637351\n",
       "延床面積（㎡）         637351\n",
       "建築年              18234\n",
       "建物の構造            13928\n",
       "用途               46137\n",
       "今後の利用目的         362260\n",
       "前面道路：方位         637351\n",
       "前面道路：種類         637351\n",
       "前面道路：幅員（ｍ）      637351\n",
       "都市計画             18565\n",
       "建ぺい率（％）          22503\n",
       "容積率（％）           22503\n",
       "取引時点                 0\n",
       "改装               56920\n",
       "取引の事情等          619076\n",
       "取引価格（総額）_log         0\n",
       "dtype: int64"
      ]
     },
     "execution_count": 36,
     "metadata": {},
     "output_type": "execute_result"
    }
   ],
   "source": [
    "df.isnull().sum() #行ごとの欠損値確認"
   ]
  },
  {
   "cell_type": "code",
   "execution_count": 37,
   "id": "3a45da21-ba95-42bc-bb1f-17a34de2d64a",
   "metadata": {},
   "outputs": [
    {
     "data": {
      "text/plain": [
       "(637351, 20)"
      ]
     },
     "execution_count": 37,
     "metadata": {},
     "output_type": "execute_result"
    }
   ],
   "source": [
    "df = df.drop(['地域', '土地の形状', '間口', '延床面積（㎡）', '前面道路：方位', '前面道路：種類', '前面道路：幅員（ｍ）'], axis=1) #全行データないものを消す\n",
    "df.shape"
   ]
  },
  {
   "cell_type": "code",
   "execution_count": 38,
   "id": "5c34313e-1131-46a5-839b-7ef85b11b345",
   "metadata": {},
   "outputs": [
    {
     "data": {
      "text/html": [
       "<div>\n",
       "<style scoped>\n",
       "    .dataframe tbody tr th:only-of-type {\n",
       "        vertical-align: middle;\n",
       "    }\n",
       "\n",
       "    .dataframe tbody tr th {\n",
       "        vertical-align: top;\n",
       "    }\n",
       "\n",
       "    .dataframe thead th {\n",
       "        text-align: right;\n",
       "    }\n",
       "</style>\n",
       "<table border=\"1\" class=\"dataframe\">\n",
       "  <thead>\n",
       "    <tr style=\"text-align: right;\">\n",
       "      <th></th>\n",
       "      <th>種類</th>\n",
       "      <th>市区町村コード</th>\n",
       "      <th>都道府県名</th>\n",
       "      <th>市区町村名</th>\n",
       "      <th>地区名</th>\n",
       "      <th>最寄駅：名称</th>\n",
       "      <th>最寄駅：距離（分）</th>\n",
       "      <th>間取り</th>\n",
       "      <th>面積（㎡）</th>\n",
       "      <th>建築年</th>\n",
       "      <th>建物の構造</th>\n",
       "      <th>用途</th>\n",
       "      <th>今後の利用目的</th>\n",
       "      <th>都市計画</th>\n",
       "      <th>建ぺい率（％）</th>\n",
       "      <th>容積率（％）</th>\n",
       "      <th>取引時点</th>\n",
       "      <th>改装</th>\n",
       "      <th>取引の事情等</th>\n",
       "      <th>取引価格（総額）_log</th>\n",
       "    </tr>\n",
       "    <tr>\n",
       "      <th>ID</th>\n",
       "      <th></th>\n",
       "      <th></th>\n",
       "      <th></th>\n",
       "      <th></th>\n",
       "      <th></th>\n",
       "      <th></th>\n",
       "      <th></th>\n",
       "      <th></th>\n",
       "      <th></th>\n",
       "      <th></th>\n",
       "      <th></th>\n",
       "      <th></th>\n",
       "      <th></th>\n",
       "      <th></th>\n",
       "      <th></th>\n",
       "      <th></th>\n",
       "      <th></th>\n",
       "      <th></th>\n",
       "      <th></th>\n",
       "      <th></th>\n",
       "    </tr>\n",
       "  </thead>\n",
       "  <tbody>\n",
       "    <tr>\n",
       "      <th>40108844</th>\n",
       "      <td>中古マンション等</td>\n",
       "      <td>40218</td>\n",
       "      <td>福岡県</td>\n",
       "      <td>春日市</td>\n",
       "      <td>昇町</td>\n",
       "      <td>博多南</td>\n",
       "      <td>23</td>\n",
       "      <td>３ＬＤＫ</td>\n",
       "      <td>70</td>\n",
       "      <td>平成16年</td>\n",
       "      <td>ＲＣ</td>\n",
       "      <td>住宅</td>\n",
       "      <td>NaN</td>\n",
       "      <td>第２種住居地域</td>\n",
       "      <td>60.0</td>\n",
       "      <td>200.0</td>\n",
       "      <td>2012年第１四半期</td>\n",
       "      <td>改装済</td>\n",
       "      <td>NaN</td>\n",
       "      <td>7.230449</td>\n",
       "    </tr>\n",
       "    <tr>\n",
       "      <th>40001245</th>\n",
       "      <td>中古マンション等</td>\n",
       "      <td>40103</td>\n",
       "      <td>福岡県</td>\n",
       "      <td>北九州市若松区</td>\n",
       "      <td>久岐の浜</td>\n",
       "      <td>若松</td>\n",
       "      <td>10</td>\n",
       "      <td>４ＬＤＫ</td>\n",
       "      <td>95</td>\n",
       "      <td>平成5年</td>\n",
       "      <td>ＲＣ</td>\n",
       "      <td>住宅</td>\n",
       "      <td>住宅</td>\n",
       "      <td>第１種住居地域</td>\n",
       "      <td>60.0</td>\n",
       "      <td>200.0</td>\n",
       "      <td>2015年第４四半期</td>\n",
       "      <td>改装済</td>\n",
       "      <td>NaN</td>\n",
       "      <td>6.875061</td>\n",
       "    </tr>\n",
       "    <tr>\n",
       "      <th>40068753</th>\n",
       "      <td>中古マンション等</td>\n",
       "      <td>40132</td>\n",
       "      <td>福岡県</td>\n",
       "      <td>福岡市博多区</td>\n",
       "      <td>古門戸町</td>\n",
       "      <td>中洲川端</td>\n",
       "      <td>4</td>\n",
       "      <td>２ＬＤＫ</td>\n",
       "      <td>50</td>\n",
       "      <td>平成9年</td>\n",
       "      <td>ＳＲＣ</td>\n",
       "      <td>住宅</td>\n",
       "      <td>NaN</td>\n",
       "      <td>商業地域</td>\n",
       "      <td>80.0</td>\n",
       "      <td>500.0</td>\n",
       "      <td>2010年第１四半期</td>\n",
       "      <td>未改装</td>\n",
       "      <td>NaN</td>\n",
       "      <td>7.041393</td>\n",
       "    </tr>\n",
       "  </tbody>\n",
       "</table>\n",
       "</div>"
      ],
      "text/plain": [
       "                種類  市区町村コード 都道府県名    市区町村名   地区名 最寄駅：名称 最寄駅：距離（分）   間取り 面積（㎡）  \\\n",
       "ID                                                                              \n",
       "40108844  中古マンション等    40218   福岡県      春日市    昇町    博多南        23  ３ＬＤＫ    70   \n",
       "40001245  中古マンション等    40103   福岡県  北九州市若松区  久岐の浜     若松        10  ４ＬＤＫ    95   \n",
       "40068753  中古マンション等    40132   福岡県   福岡市博多区  古門戸町   中洲川端         4  ２ＬＤＫ    50   \n",
       "\n",
       "            建築年 建物の構造  用途 今後の利用目的     都市計画  建ぺい率（％）  容積率（％）        取引時点   改装  \\\n",
       "ID                                                                             \n",
       "40108844  平成16年    ＲＣ  住宅     NaN  第２種住居地域     60.0   200.0  2012年第１四半期  改装済   \n",
       "40001245   平成5年    ＲＣ  住宅      住宅  第１種住居地域     60.0   200.0  2015年第４四半期  改装済   \n",
       "40068753   平成9年   ＳＲＣ  住宅     NaN     商業地域     80.0   500.0  2010年第１四半期  未改装   \n",
       "\n",
       "         取引の事情等  取引価格（総額）_log  \n",
       "ID                             \n",
       "40108844    NaN      7.230449  \n",
       "40001245    NaN      6.875061  \n",
       "40068753    NaN      7.041393  "
      ]
     },
     "execution_count": 38,
     "metadata": {},
     "output_type": "execute_result"
    }
   ],
   "source": [
    "df.head(3)"
   ]
  },
  {
   "cell_type": "code",
   "execution_count": 39,
   "id": "3c763c89-7790-4b4f-8af0-7b8762370059",
   "metadata": {},
   "outputs": [
    {
     "data": {
      "text/plain": [
       "種類                   0\n",
       "市区町村コード              0\n",
       "都道府県名                0\n",
       "市区町村名                0\n",
       "地区名                291\n",
       "最寄駅：名称            2619\n",
       "最寄駅：距離（分）        23045\n",
       "間取り              21742\n",
       "面積（㎡）                0\n",
       "建築年              18234\n",
       "建物の構造            13928\n",
       "用途               46137\n",
       "今後の利用目的         362260\n",
       "都市計画             18565\n",
       "建ぺい率（％）          22503\n",
       "容積率（％）           22503\n",
       "取引時点                 0\n",
       "改装               56920\n",
       "取引の事情等          619076\n",
       "取引価格（総額）_log         0\n",
       "dtype: int64"
      ]
     },
     "execution_count": 39,
     "metadata": {},
     "output_type": "execute_result"
    }
   ],
   "source": [
    "df.isnull().sum()"
   ]
  },
  {
   "cell_type": "code",
   "execution_count": 40,
   "id": "cc2fe7c7-5f1a-4ffb-8e54-33322df4fe5c",
   "metadata": {},
   "outputs": [],
   "source": [
    "df = df.dropna(how='any', axis=0)"
   ]
  },
  {
   "cell_type": "code",
   "execution_count": 41,
   "id": "9a425fe9-831f-4b81-b211-6d4071570931",
   "metadata": {},
   "outputs": [
    {
     "data": {
      "text/plain": [
       "種類              0\n",
       "市区町村コード         0\n",
       "都道府県名           0\n",
       "市区町村名           0\n",
       "地区名             0\n",
       "最寄駅：名称          0\n",
       "最寄駅：距離（分）       0\n",
       "間取り             0\n",
       "面積（㎡）           0\n",
       "建築年             0\n",
       "建物の構造           0\n",
       "用途              0\n",
       "今後の利用目的         0\n",
       "都市計画            0\n",
       "建ぺい率（％）         0\n",
       "容積率（％）          0\n",
       "取引時点            0\n",
       "改装              0\n",
       "取引の事情等          0\n",
       "取引価格（総額）_log    0\n",
       "dtype: int64"
      ]
     },
     "execution_count": 41,
     "metadata": {},
     "output_type": "execute_result"
    }
   ],
   "source": [
    "df.isnull().sum()"
   ]
  },
  {
   "cell_type": "code",
   "execution_count": 42,
   "id": "483dbf26-07b7-4bda-b804-69df7fec8ef6",
   "metadata": {},
   "outputs": [],
   "source": [
    "col = ['都道府県名', '市区町村名', '地区名', '最寄駅：名称', '最寄駅：距離（分）', '間取り', '面積（㎡）', '建築年']"
   ]
  },
  {
   "cell_type": "code",
   "execution_count": 43,
   "id": "317e9262-35a3-4e40-b238-a47b43ead719",
   "metadata": {},
   "outputs": [],
   "source": [
    "df_dummy = pd.get_dummies(df[col], drop_first=True)"
   ]
  },
  {
   "cell_type": "code",
   "execution_count": 44,
   "id": "8cbfb719-aa26-47a2-8e95-c9b38c629537",
   "metadata": {},
   "outputs": [
    {
     "data": {
      "text/html": [
       "<div>\n",
       "<style scoped>\n",
       "    .dataframe tbody tr th:only-of-type {\n",
       "        vertical-align: middle;\n",
       "    }\n",
       "\n",
       "    .dataframe tbody tr th {\n",
       "        vertical-align: top;\n",
       "    }\n",
       "\n",
       "    .dataframe thead th {\n",
       "        text-align: right;\n",
       "    }\n",
       "</style>\n",
       "<table border=\"1\" class=\"dataframe\">\n",
       "  <thead>\n",
       "    <tr style=\"text-align: right;\">\n",
       "      <th></th>\n",
       "      <th>都道府県名_京都府</th>\n",
       "      <th>都道府県名_佐賀県</th>\n",
       "      <th>都道府県名_兵庫県</th>\n",
       "      <th>都道府県名_北海道</th>\n",
       "      <th>都道府県名_千葉県</th>\n",
       "      <th>都道府県名_和歌山県</th>\n",
       "      <th>都道府県名_埼玉県</th>\n",
       "      <th>都道府県名_大分県</th>\n",
       "      <th>都道府県名_大阪府</th>\n",
       "      <th>都道府県名_奈良県</th>\n",
       "      <th>都道府県名_宮城県</th>\n",
       "      <th>都道府県名_宮崎県</th>\n",
       "      <th>都道府県名_富山県</th>\n",
       "      <th>...</th>\n",
       "      <th>建築年_昭和52年</th>\n",
       "      <th>建築年_昭和53年</th>\n",
       "      <th>建築年_昭和54年</th>\n",
       "      <th>建築年_昭和55年</th>\n",
       "      <th>建築年_昭和56年</th>\n",
       "      <th>建築年_昭和57年</th>\n",
       "      <th>建築年_昭和58年</th>\n",
       "      <th>建築年_昭和59年</th>\n",
       "      <th>建築年_昭和60年</th>\n",
       "      <th>建築年_昭和61年</th>\n",
       "      <th>建築年_昭和62年</th>\n",
       "      <th>建築年_昭和63年</th>\n",
       "      <th>建築年_昭和64年</th>\n",
       "    </tr>\n",
       "    <tr>\n",
       "      <th>ID</th>\n",
       "      <th></th>\n",
       "      <th></th>\n",
       "      <th></th>\n",
       "      <th></th>\n",
       "      <th></th>\n",
       "      <th></th>\n",
       "      <th></th>\n",
       "      <th></th>\n",
       "      <th></th>\n",
       "      <th></th>\n",
       "      <th></th>\n",
       "      <th></th>\n",
       "      <th></th>\n",
       "      <th></th>\n",
       "      <th></th>\n",
       "      <th></th>\n",
       "      <th></th>\n",
       "      <th></th>\n",
       "      <th></th>\n",
       "      <th></th>\n",
       "      <th></th>\n",
       "      <th></th>\n",
       "      <th></th>\n",
       "      <th></th>\n",
       "      <th></th>\n",
       "      <th></th>\n",
       "      <th></th>\n",
       "    </tr>\n",
       "  </thead>\n",
       "  <tbody>\n",
       "    <tr>\n",
       "      <th>40069422</th>\n",
       "      <td>0</td>\n",
       "      <td>0</td>\n",
       "      <td>0</td>\n",
       "      <td>0</td>\n",
       "      <td>0</td>\n",
       "      <td>0</td>\n",
       "      <td>0</td>\n",
       "      <td>0</td>\n",
       "      <td>0</td>\n",
       "      <td>0</td>\n",
       "      <td>0</td>\n",
       "      <td>0</td>\n",
       "      <td>0</td>\n",
       "      <td>...</td>\n",
       "      <td>0</td>\n",
       "      <td>0</td>\n",
       "      <td>0</td>\n",
       "      <td>0</td>\n",
       "      <td>0</td>\n",
       "      <td>0</td>\n",
       "      <td>0</td>\n",
       "      <td>0</td>\n",
       "      <td>0</td>\n",
       "      <td>0</td>\n",
       "      <td>1</td>\n",
       "      <td>0</td>\n",
       "      <td>0</td>\n",
       "    </tr>\n",
       "    <tr>\n",
       "      <th>40071193</th>\n",
       "      <td>0</td>\n",
       "      <td>0</td>\n",
       "      <td>0</td>\n",
       "      <td>0</td>\n",
       "      <td>0</td>\n",
       "      <td>0</td>\n",
       "      <td>0</td>\n",
       "      <td>0</td>\n",
       "      <td>0</td>\n",
       "      <td>0</td>\n",
       "      <td>0</td>\n",
       "      <td>0</td>\n",
       "      <td>0</td>\n",
       "      <td>...</td>\n",
       "      <td>0</td>\n",
       "      <td>0</td>\n",
       "      <td>0</td>\n",
       "      <td>0</td>\n",
       "      <td>0</td>\n",
       "      <td>0</td>\n",
       "      <td>0</td>\n",
       "      <td>0</td>\n",
       "      <td>0</td>\n",
       "      <td>0</td>\n",
       "      <td>0</td>\n",
       "      <td>0</td>\n",
       "      <td>0</td>\n",
       "    </tr>\n",
       "  </tbody>\n",
       "</table>\n",
       "<p>2 rows × 3782 columns</p>\n",
       "</div>"
      ],
      "text/plain": [
       "          都道府県名_京都府  都道府県名_佐賀県  都道府県名_兵庫県  都道府県名_北海道  都道府県名_千葉県  都道府県名_和歌山県  \\\n",
       "ID                                                                            \n",
       "40069422          0          0          0          0          0           0   \n",
       "40071193          0          0          0          0          0           0   \n",
       "\n",
       "          都道府県名_埼玉県  都道府県名_大分県  都道府県名_大阪府  都道府県名_奈良県  都道府県名_宮城県  都道府県名_宮崎県  \\\n",
       "ID                                                                           \n",
       "40069422          0          0          0          0          0          0   \n",
       "40071193          0          0          0          0          0          0   \n",
       "\n",
       "          都道府県名_富山県  ...  建築年_昭和52年  建築年_昭和53年  建築年_昭和54年  建築年_昭和55年  \\\n",
       "ID                   ...                                               \n",
       "40069422          0  ...          0          0          0          0   \n",
       "40071193          0  ...          0          0          0          0   \n",
       "\n",
       "          建築年_昭和56年  建築年_昭和57年  建築年_昭和58年  建築年_昭和59年  建築年_昭和60年  建築年_昭和61年  \\\n",
       "ID                                                                           \n",
       "40069422          0          0          0          0          0          0   \n",
       "40071193          0          0          0          0          0          0   \n",
       "\n",
       "          建築年_昭和62年  建築年_昭和63年  建築年_昭和64年  \n",
       "ID                                         \n",
       "40069422          1          0          0  \n",
       "40071193          0          0          0  \n",
       "\n",
       "[2 rows x 3782 columns]"
      ]
     },
     "execution_count": 44,
     "metadata": {},
     "output_type": "execute_result"
    }
   ],
   "source": [
    "df_dummy.head(2)"
   ]
  },
  {
   "cell_type": "code",
   "execution_count": null,
   "id": "324551e9-1c8c-468a-ac05-a92da629719e",
   "metadata": {},
   "outputs": [],
   "source": []
  },
  {
   "cell_type": "code",
   "execution_count": 45,
   "id": "29c3c172-0a0d-4407-ba0d-2c42a6224900",
   "metadata": {},
   "outputs": [],
   "source": [
    "x = df_dummy.loc[:,:]"
   ]
  },
  {
   "cell_type": "code",
   "execution_count": 46,
   "id": "8c786e06-adaf-4700-a22f-70bd55d3d0b2",
   "metadata": {},
   "outputs": [],
   "source": [
    "y = df['取引価格（総額）_log']"
   ]
  },
  {
   "cell_type": "code",
   "execution_count": 47,
   "id": "460b38a9-e6b7-4736-aeed-3767e199d752",
   "metadata": {},
   "outputs": [
    {
     "name": "stdout",
     "output_type": "stream",
     "text": [
      "(2656, 3782)\n",
      "(2656,)\n"
     ]
    }
   ],
   "source": [
    "print(x.shape)\n",
    "print(y.shape)"
   ]
  },
  {
   "cell_type": "code",
   "execution_count": null,
   "id": "54c81c4f-505f-412c-a765-ba46e6fadae8",
   "metadata": {},
   "outputs": [],
   "source": []
  },
  {
   "cell_type": "code",
   "execution_count": null,
   "id": "40e66a9a-4c64-47d1-8089-32cc6a4f65d6",
   "metadata": {},
   "outputs": [],
   "source": []
  },
  {
   "cell_type": "code",
   "execution_count": null,
   "id": "b462487b-1b41-4cc7-89d9-e2101ba57ab8",
   "metadata": {},
   "outputs": [],
   "source": []
  },
  {
   "cell_type": "code",
   "execution_count": 48,
   "id": "8ea01adf-d09e-44fc-8bef-6e8b42da58f8",
   "metadata": {},
   "outputs": [],
   "source": [
    "#決定木モデル作成"
   ]
  },
  {
   "cell_type": "code",
   "execution_count": 49,
   "id": "59b602cf-94fe-4561-a986-1485956956cd",
   "metadata": {},
   "outputs": [],
   "source": [
    "from sklearn.tree import DecisionTreeRegressor\n",
    "from sklearn.model_selection import train_test_split"
   ]
  },
  {
   "cell_type": "code",
   "execution_count": 50,
   "id": "0a4c3d78-6668-4bd5-bdd8-356a18adcccd",
   "metadata": {},
   "outputs": [],
   "source": [
    "x_train, x_test, y_train, y_test = train_test_split(x, y, test_size=0.3, random_state=1, shuffle=True)"
   ]
  },
  {
   "cell_type": "code",
   "execution_count": 51,
   "id": "067bcec2-11f6-40fd-b682-dabcdc4a6f5a",
   "metadata": {},
   "outputs": [
    {
     "data": {
      "text/plain": [
       "DecisionTreeRegressor(random_state=0)"
      ]
     },
     "execution_count": 51,
     "metadata": {},
     "output_type": "execute_result"
    }
   ],
   "source": [
    "model_tree = DecisionTreeRegressor(random_state=0)\n",
    "model_tree.fit(x_train, y_train)"
   ]
  },
  {
   "cell_type": "code",
   "execution_count": 52,
   "id": "ecb75f93-3980-48f8-9b72-873f021ffe2b",
   "metadata": {},
   "outputs": [
    {
     "name": "stdout",
     "output_type": "stream",
     "text": [
      "0.25197488802316426\n"
     ]
    }
   ],
   "source": [
    "print(model_tree.score(x_test, y_test))"
   ]
  },
  {
   "cell_type": "code",
   "execution_count": null,
   "id": "10456868-5932-47a7-b31c-de97430101f4",
   "metadata": {},
   "outputs": [],
   "source": []
  },
  {
   "cell_type": "code",
   "execution_count": null,
   "id": "1aa05ed7-d578-4f61-9302-92525bb7e48d",
   "metadata": {},
   "outputs": [],
   "source": []
  },
  {
   "cell_type": "code",
   "execution_count": 53,
   "id": "eb45ad90-4548-4840-838e-96bbd4f91591",
   "metadata": {},
   "outputs": [],
   "source": [
    "#ランダムフォレストモデル作成"
   ]
  },
  {
   "cell_type": "code",
   "execution_count": 54,
   "id": "9fcc8c36-fbd7-4430-bd61-374e5d33f5d9",
   "metadata": {},
   "outputs": [],
   "source": [
    "from sklearn.ensemble import RandomForestRegressor"
   ]
  },
  {
   "cell_type": "code",
   "execution_count": 55,
   "id": "0e7e9a37-0c68-486e-948a-d5b7a4bbc1d5",
   "metadata": {},
   "outputs": [],
   "source": [
    "model_forest = RandomForestRegressor(max_depth=15, n_estimators=100, random_state=0)"
   ]
  },
  {
   "cell_type": "code",
   "execution_count": 56,
   "id": "ba35a48a-fd35-40de-bba5-5590933ccb8f",
   "metadata": {},
   "outputs": [
    {
     "name": "stdout",
     "output_type": "stream",
     "text": [
      "0.4280338443419913\n"
     ]
    }
   ],
   "source": [
    "model_forest.fit(x_train, y_train)\n",
    "print(model_forest.score(x_test, y_test))"
   ]
  },
  {
   "cell_type": "code",
   "execution_count": 57,
   "id": "f6331684-93d3-4672-8ccd-fb5357b233c2",
   "metadata": {},
   "outputs": [
    {
     "name": "stdout",
     "output_type": "stream",
     "text": [
      "max_depth= 10   0.38348640150107216\n",
      "max_depth= 12   0.40698774527922765\n",
      "max_depth= 14   0.4225229452795529\n",
      "max_depth= 16   0.43595599949970765\n",
      "max_depth= 18   0.44832992419723017\n",
      "max_depth= 20   0.4580252857194069\n"
     ]
    }
   ],
   "source": [
    "for i in range(10, 21, 2):\n",
    "    model_forest = RandomForestRegressor(max_depth=i, n_estimators=100, random_state=0)\n",
    "    model_forest.fit(x_train, y_train)\n",
    "    print('max_depth=', i, ' ', model_forest.score(x_test, y_test))"
   ]
  },
  {
   "cell_type": "code",
   "execution_count": 58,
   "id": "18361040-230f-4869-b843-754c79f0ee8d",
   "metadata": {},
   "outputs": [
    {
     "name": "stdout",
     "output_type": "stream",
     "text": [
      "n_estimators= 90   0.3821305426310796\n",
      "n_estimators= 100   0.38348640150107216\n",
      "n_estimators= 110   0.3830914889106639\n",
      "n_estimators= 120   0.3819550825953423\n",
      "n_estimators= 130   0.38229200477894276\n",
      "n_estimators= 140   0.3823544274356455\n"
     ]
    }
   ],
   "source": [
    "for i in range(90, 141, 10):\n",
    "    model_forest = RandomForestRegressor(max_depth=10, n_estimators=i, random_state=0)\n",
    "    model_forest.fit(x_train, y_train)\n",
    "    print('n_estimators=', i, ' ', model_forest.score(x_test, y_test))"
   ]
  },
  {
   "cell_type": "code",
   "execution_count": null,
   "id": "338a5689-3db5-4bab-b9d6-516c8822d677",
   "metadata": {},
   "outputs": [],
   "source": []
  },
  {
   "cell_type": "code",
   "execution_count": null,
   "id": "2bca39a7-7878-4ab8-a4d7-2b9ebf2c314d",
   "metadata": {},
   "outputs": [],
   "source": []
  },
  {
   "cell_type": "code",
   "execution_count": null,
   "id": "4081e7f9-2706-413a-95cf-22c64cb1fc28",
   "metadata": {},
   "outputs": [],
   "source": []
  },
  {
   "cell_type": "code",
   "execution_count": 156,
   "id": "d53fa03e-3489-4df3-9c0b-5809571ad6ae",
   "metadata": {},
   "outputs": [
    {
     "data": {
      "text/html": [
       "<div>\n",
       "<style scoped>\n",
       "    .dataframe tbody tr th:only-of-type {\n",
       "        vertical-align: middle;\n",
       "    }\n",
       "\n",
       "    .dataframe tbody tr th {\n",
       "        vertical-align: top;\n",
       "    }\n",
       "\n",
       "    .dataframe thead th {\n",
       "        text-align: right;\n",
       "    }\n",
       "</style>\n",
       "<table border=\"1\" class=\"dataframe\">\n",
       "  <thead>\n",
       "    <tr style=\"text-align: right;\">\n",
       "      <th></th>\n",
       "      <th>ID</th>\n",
       "      <th>種類</th>\n",
       "      <th>地域</th>\n",
       "      <th>市区町村コード</th>\n",
       "      <th>都道府県名</th>\n",
       "      <th>市区町村名</th>\n",
       "      <th>地区名</th>\n",
       "      <th>最寄駅：名称</th>\n",
       "      <th>最寄駅：距離（分）</th>\n",
       "      <th>間取り</th>\n",
       "      <th>面積（㎡）</th>\n",
       "      <th>土地の形状</th>\n",
       "      <th>間口</th>\n",
       "      <th>延床面積（㎡）</th>\n",
       "      <th>建築年</th>\n",
       "      <th>建物の構造</th>\n",
       "      <th>用途</th>\n",
       "      <th>今後の利用目的</th>\n",
       "      <th>前面道路：方位</th>\n",
       "      <th>前面道路：種類</th>\n",
       "      <th>前面道路：幅員（ｍ）</th>\n",
       "      <th>都市計画</th>\n",
       "      <th>建ぺい率（％）</th>\n",
       "      <th>容積率（％）</th>\n",
       "      <th>取引時点</th>\n",
       "      <th>改装</th>\n",
       "      <th>取引の事情等</th>\n",
       "    </tr>\n",
       "  </thead>\n",
       "  <tbody>\n",
       "    <tr>\n",
       "      <th>0</th>\n",
       "      <td>1000000</td>\n",
       "      <td>中古マンション等</td>\n",
       "      <td>NaN</td>\n",
       "      <td>1101</td>\n",
       "      <td>北海道</td>\n",
       "      <td>札幌市中央区</td>\n",
       "      <td>旭ケ丘</td>\n",
       "      <td>円山公園</td>\n",
       "      <td>26</td>\n",
       "      <td>３ＬＤＫ</td>\n",
       "      <td>75</td>\n",
       "      <td>NaN</td>\n",
       "      <td>NaN</td>\n",
       "      <td>NaN</td>\n",
       "      <td>昭和64年</td>\n",
       "      <td>ＲＣ</td>\n",
       "      <td>NaN</td>\n",
       "      <td>住宅</td>\n",
       "      <td>NaN</td>\n",
       "      <td>NaN</td>\n",
       "      <td>NaN</td>\n",
       "      <td>第１種低層住居専用地域</td>\n",
       "      <td>40.0</td>\n",
       "      <td>60.0</td>\n",
       "      <td>2020年第２四半期</td>\n",
       "      <td>未改装</td>\n",
       "      <td>NaN</td>\n",
       "    </tr>\n",
       "  </tbody>\n",
       "</table>\n",
       "</div>"
      ],
      "text/plain": [
       "        ID        種類  地域  市区町村コード 都道府県名   市区町村名  地区名 最寄駅：名称 最寄駅：距離（分）   間取り  \\\n",
       "0  1000000  中古マンション等 NaN     1101   北海道  札幌市中央区  旭ケ丘   円山公園        26  ３ＬＤＫ   \n",
       "\n",
       "   面積（㎡）  土地の形状  間口  延床面積（㎡）    建築年 建物の構造   用途 今後の利用目的  前面道路：方位  前面道路：種類  \\\n",
       "0     75    NaN NaN      NaN  昭和64年    ＲＣ  NaN      住宅      NaN      NaN   \n",
       "\n",
       "   前面道路：幅員（ｍ）         都市計画  建ぺい率（％）  容積率（％）        取引時点   改装 取引の事情等  \n",
       "0         NaN  第１種低層住居専用地域     40.0    60.0  2020年第２四半期  未改装    NaN  "
      ]
     },
     "execution_count": 156,
     "metadata": {},
     "output_type": "execute_result"
    }
   ],
   "source": [
    "test = pd.read_csv('../learning/マンション/test.csv')\n",
    "test.head(1)"
   ]
  },
  {
   "cell_type": "code",
   "execution_count": 171,
   "id": "9884a21e-cf34-4193-aa9c-60b94b99a5d9",
   "metadata": {},
   "outputs": [
    {
     "data": {
      "text/plain": [
       "ID                0\n",
       "種類                0\n",
       "地域            19466\n",
       "市区町村コード           0\n",
       "都道府県名             0\n",
       "市区町村名             0\n",
       "地区名               3\n",
       "最寄駅：名称           13\n",
       "最寄駅：距離（分）        13\n",
       "間取り             922\n",
       "面積（㎡）             0\n",
       "土地の形状         19466\n",
       "間口            19466\n",
       "延床面積（㎡）       19466\n",
       "建築年             662\n",
       "建物の構造          1265\n",
       "用途             5986\n",
       "今後の利用目的        1027\n",
       "前面道路：方位       19466\n",
       "前面道路：種類       19466\n",
       "前面道路：幅員（ｍ）    19466\n",
       "都市計画            344\n",
       "建ぺい率（％）         421\n",
       "容積率（％）          421\n",
       "取引時点              0\n",
       "改装             2430\n",
       "取引の事情等        19314\n",
       "dtype: int64"
      ]
     },
     "execution_count": 171,
     "metadata": {},
     "output_type": "execute_result"
    }
   ],
   "source": [
    "test.isnull().sum()"
   ]
  },
  {
   "cell_type": "code",
   "execution_count": 172,
   "id": "d9e7e51f-774e-4c67-a0aa-5373d4680f47",
   "metadata": {},
   "outputs": [],
   "source": [
    "test_dummy = pd.get_dummies(test[col], drop_first=True)"
   ]
  },
  {
   "cell_type": "code",
   "execution_count": 174,
   "id": "d65d233d-5fc5-4078-bedc-5df9327e7d4f",
   "metadata": {},
   "outputs": [
    {
     "data": {
      "text/html": [
       "<div>\n",
       "<style scoped>\n",
       "    .dataframe tbody tr th:only-of-type {\n",
       "        vertical-align: middle;\n",
       "    }\n",
       "\n",
       "    .dataframe tbody tr th {\n",
       "        vertical-align: top;\n",
       "    }\n",
       "\n",
       "    .dataframe thead th {\n",
       "        text-align: right;\n",
       "    }\n",
       "</style>\n",
       "<table border=\"1\" class=\"dataframe\">\n",
       "  <thead>\n",
       "    <tr style=\"text-align: right;\">\n",
       "      <th></th>\n",
       "      <th>面積（㎡）</th>\n",
       "      <th>都道府県名_京都府</th>\n",
       "      <th>都道府県名_佐賀県</th>\n",
       "      <th>都道府県名_兵庫県</th>\n",
       "      <th>都道府県名_北海道</th>\n",
       "      <th>都道府県名_千葉県</th>\n",
       "      <th>都道府県名_和歌山県</th>\n",
       "      <th>都道府県名_埼玉県</th>\n",
       "      <th>都道府県名_大分県</th>\n",
       "      <th>都道府県名_大阪府</th>\n",
       "      <th>都道府県名_奈良県</th>\n",
       "      <th>都道府県名_宮城県</th>\n",
       "      <th>都道府県名_宮崎県</th>\n",
       "      <th>...</th>\n",
       "      <th>建築年_昭和52年</th>\n",
       "      <th>建築年_昭和53年</th>\n",
       "      <th>建築年_昭和54年</th>\n",
       "      <th>建築年_昭和55年</th>\n",
       "      <th>建築年_昭和56年</th>\n",
       "      <th>建築年_昭和57年</th>\n",
       "      <th>建築年_昭和58年</th>\n",
       "      <th>建築年_昭和59年</th>\n",
       "      <th>建築年_昭和60年</th>\n",
       "      <th>建築年_昭和61年</th>\n",
       "      <th>建築年_昭和62年</th>\n",
       "      <th>建築年_昭和63年</th>\n",
       "      <th>建築年_昭和64年</th>\n",
       "    </tr>\n",
       "  </thead>\n",
       "  <tbody>\n",
       "    <tr>\n",
       "      <th>0</th>\n",
       "      <td>75</td>\n",
       "      <td>0</td>\n",
       "      <td>0</td>\n",
       "      <td>0</td>\n",
       "      <td>1</td>\n",
       "      <td>0</td>\n",
       "      <td>0</td>\n",
       "      <td>0</td>\n",
       "      <td>0</td>\n",
       "      <td>0</td>\n",
       "      <td>0</td>\n",
       "      <td>0</td>\n",
       "      <td>0</td>\n",
       "      <td>...</td>\n",
       "      <td>0</td>\n",
       "      <td>0</td>\n",
       "      <td>0</td>\n",
       "      <td>0</td>\n",
       "      <td>0</td>\n",
       "      <td>0</td>\n",
       "      <td>0</td>\n",
       "      <td>0</td>\n",
       "      <td>0</td>\n",
       "      <td>0</td>\n",
       "      <td>0</td>\n",
       "      <td>0</td>\n",
       "      <td>1</td>\n",
       "    </tr>\n",
       "  </tbody>\n",
       "</table>\n",
       "<p>1 rows × 8752 columns</p>\n",
       "</div>"
      ],
      "text/plain": [
       "   面積（㎡）  都道府県名_京都府  都道府県名_佐賀県  都道府県名_兵庫県  都道府県名_北海道  都道府県名_千葉県  都道府県名_和歌山県  \\\n",
       "0     75          0          0          0          1          0           0   \n",
       "\n",
       "   都道府県名_埼玉県  都道府県名_大分県  都道府県名_大阪府  都道府県名_奈良県  都道府県名_宮城県  都道府県名_宮崎県  ...  \\\n",
       "0          0          0          0          0          0          0  ...   \n",
       "\n",
       "   建築年_昭和52年  建築年_昭和53年  建築年_昭和54年  建築年_昭和55年  建築年_昭和56年  建築年_昭和57年  \\\n",
       "0          0          0          0          0          0          0   \n",
       "\n",
       "   建築年_昭和58年  建築年_昭和59年  建築年_昭和60年  建築年_昭和61年  建築年_昭和62年  建築年_昭和63年  建築年_昭和64年  \n",
       "0          0          0          0          0          0          0          1  \n",
       "\n",
       "[1 rows x 8752 columns]"
      ]
     },
     "execution_count": 174,
     "metadata": {},
     "output_type": "execute_result"
    }
   ],
   "source": [
    "test_dummy.head(1)"
   ]
  },
  {
   "cell_type": "code",
   "execution_count": 178,
   "id": "fe319c8e-65da-48f2-8e6f-3e5fac8c417c",
   "metadata": {},
   "outputs": [],
   "source": [
    "test_col = test_dummy.loc[:,:]"
   ]
  },
  {
   "cell_type": "code",
   "execution_count": null,
   "id": "c16d862c-2196-46f8-8a98-321812b7ab85",
   "metadata": {},
   "outputs": [],
   "source": [
    "test_target = df['取引価格（総額）_log']"
   ]
  },
  {
   "cell_type": "code",
   "execution_count": null,
   "id": "2d92b1d0-1140-49ca-a0f7-fedcd61ee9f2",
   "metadata": {},
   "outputs": [],
   "source": []
  },
  {
   "cell_type": "code",
   "execution_count": null,
   "id": "066e271b-9e31-4faa-bc2b-bfa905682133",
   "metadata": {},
   "outputs": [],
   "source": []
  },
  {
   "cell_type": "code",
   "execution_count": null,
   "id": "7f5fb2b0-126e-4b65-9976-e672051c7a90",
   "metadata": {},
   "outputs": [],
   "source": []
  },
  {
   "cell_type": "code",
   "execution_count": null,
   "id": "f8cd1b84-4689-4273-a738-fff7553ff989",
   "metadata": {},
   "outputs": [],
   "source": []
  },
  {
   "cell_type": "code",
   "execution_count": 39,
   "id": "aad067f0-0884-46da-8023-4c97609a26da",
   "metadata": {},
   "outputs": [],
   "source": [
    "from sklearn.metrics import mean_absolute_error #MAEで評価\n",
    "\n",
    "mae = mean_absolute_error(y_true, y_pred)\n",
    "print(mae)"
   ]
  },
  {
   "cell_type": "code",
   "execution_count": null,
   "id": "ff254853-337d-4848-8d82-7f17ba54899d",
   "metadata": {},
   "outputs": [],
   "source": []
  }
 ],
 "metadata": {
  "kernelspec": {
   "display_name": "Python 3 (ipykernel)",
   "language": "python",
   "name": "python3"
  },
  "language_info": {
   "codemirror_mode": {
    "name": "ipython",
    "version": 3
   },
   "file_extension": ".py",
   "mimetype": "text/x-python",
   "name": "python",
   "nbconvert_exporter": "python",
   "pygments_lexer": "ipython3",
   "version": "3.7.13"
  }
 },
 "nbformat": 4,
 "nbformat_minor": 5
}
